{
  "nbformat": 4,
  "nbformat_minor": 0,
  "metadata": {
    "colab": {
      "provenance": [],
      "gpuType": "T4",
      "include_colab_link": true
    },
    "kernelspec": {
      "name": "python3",
      "display_name": "Python 3"
    },
    "language_info": {
      "name": "python"
    },
    "accelerator": "GPU"
  },
  "cells": [
    {
      "cell_type": "markdown",
      "metadata": {
        "id": "view-in-github",
        "colab_type": "text"
      },
      "source": [
        "<a href=\"https://colab.research.google.com/github/KianShokraneh/Captum-Attribution-Metrics-Analysis/blob/main/Captum_Attributions_Initial_Analysis.ipynb\" target=\"_parent\"><img src=\"https://colab.research.google.com/assets/colab-badge.svg\" alt=\"Open In Colab\"/></a>"
      ]
    },
    {
      "cell_type": "code",
      "execution_count": null,
      "metadata": {
        "colab": {
          "base_uri": "https://localhost:8080/"
        },
        "id": "MAK09zFKoT0X",
        "outputId": "287b67de-0d40-4430-bfb4-832bd52cb2f3"
      },
      "outputs": [
        {
          "output_type": "stream",
          "name": "stdout",
          "text": [
            "/usr/local/lib/python3.10/dist-packages/gdown/__main__.py:132: FutureWarning: Option `--id` was deprecated in version 4.3.1 and will be removed in 5.0. You don't need to pass it anymore to use a file ID.\n",
            "  warnings.warn(\n",
            "Downloading...\n",
            "From (original): https://drive.google.com/uc?id=1zeu1TYA3KFZxiJKwPRWLG50mPAnEj3jl\n",
            "From (redirected): https://drive.google.com/uc?id=1zeu1TYA3KFZxiJKwPRWLG50mPAnEj3jl&confirm=t&uuid=a09d205e-bbcc-45ab-a5aa-16e243566831\n",
            "To: /content/resnet18_cifar10.pth\n",
            "100% 44.8M/44.8M [00:02<00:00, 16.1MB/s]\n"
          ]
        }
      ],
      "source": [
        "!gdown --id 1zeu1TYA3KFZxiJKwPRWLG50mPAnEj3jl"
      ]
    },
    {
      "cell_type": "code",
      "source": [
        "!pip install torch torchvision captum\n"
      ],
      "metadata": {
        "colab": {
          "base_uri": "https://localhost:8080/"
        },
        "id": "iFBcfF7Woo3Y",
        "outputId": "5bbec3cb-9245-4195-8904-816cc47b5527"
      },
      "execution_count": null,
      "outputs": [
        {
          "output_type": "stream",
          "name": "stdout",
          "text": [
            "Requirement already satisfied: torch in /usr/local/lib/python3.10/dist-packages (2.3.1+cu121)\n",
            "Requirement already satisfied: torchvision in /usr/local/lib/python3.10/dist-packages (0.18.1+cu121)\n",
            "Collecting captum\n",
            "  Downloading captum-0.7.0-py3-none-any.whl (1.3 MB)\n",
            "\u001b[2K     \u001b[90m━━━━━━━━━━━━━━━━━━━━━━━━━━━━━━━━━━━━━━━━\u001b[0m \u001b[32m1.3/1.3 MB\u001b[0m \u001b[31m23.2 MB/s\u001b[0m eta \u001b[36m0:00:00\u001b[0m\n",
            "\u001b[?25hRequirement already satisfied: filelock in /usr/local/lib/python3.10/dist-packages (from torch) (3.15.4)\n",
            "Requirement already satisfied: typing-extensions>=4.8.0 in /usr/local/lib/python3.10/dist-packages (from torch) (4.12.2)\n",
            "Requirement already satisfied: sympy in /usr/local/lib/python3.10/dist-packages (from torch) (1.13.0)\n",
            "Requirement already satisfied: networkx in /usr/local/lib/python3.10/dist-packages (from torch) (3.3)\n",
            "Requirement already satisfied: jinja2 in /usr/local/lib/python3.10/dist-packages (from torch) (3.1.4)\n",
            "Requirement already satisfied: fsspec in /usr/local/lib/python3.10/dist-packages (from torch) (2023.6.0)\n",
            "Collecting nvidia-cuda-nvrtc-cu12==12.1.105 (from torch)\n",
            "  Using cached nvidia_cuda_nvrtc_cu12-12.1.105-py3-none-manylinux1_x86_64.whl (23.7 MB)\n",
            "Collecting nvidia-cuda-runtime-cu12==12.1.105 (from torch)\n",
            "  Using cached nvidia_cuda_runtime_cu12-12.1.105-py3-none-manylinux1_x86_64.whl (823 kB)\n",
            "Collecting nvidia-cuda-cupti-cu12==12.1.105 (from torch)\n",
            "  Using cached nvidia_cuda_cupti_cu12-12.1.105-py3-none-manylinux1_x86_64.whl (14.1 MB)\n",
            "Collecting nvidia-cudnn-cu12==8.9.2.26 (from torch)\n",
            "  Using cached nvidia_cudnn_cu12-8.9.2.26-py3-none-manylinux1_x86_64.whl (731.7 MB)\n",
            "Collecting nvidia-cublas-cu12==12.1.3.1 (from torch)\n",
            "  Using cached nvidia_cublas_cu12-12.1.3.1-py3-none-manylinux1_x86_64.whl (410.6 MB)\n",
            "Collecting nvidia-cufft-cu12==11.0.2.54 (from torch)\n",
            "  Using cached nvidia_cufft_cu12-11.0.2.54-py3-none-manylinux1_x86_64.whl (121.6 MB)\n",
            "Collecting nvidia-curand-cu12==10.3.2.106 (from torch)\n",
            "  Using cached nvidia_curand_cu12-10.3.2.106-py3-none-manylinux1_x86_64.whl (56.5 MB)\n",
            "Collecting nvidia-cusolver-cu12==11.4.5.107 (from torch)\n",
            "  Using cached nvidia_cusolver_cu12-11.4.5.107-py3-none-manylinux1_x86_64.whl (124.2 MB)\n",
            "Collecting nvidia-cusparse-cu12==12.1.0.106 (from torch)\n",
            "  Using cached nvidia_cusparse_cu12-12.1.0.106-py3-none-manylinux1_x86_64.whl (196.0 MB)\n",
            "Collecting nvidia-nccl-cu12==2.20.5 (from torch)\n",
            "  Using cached nvidia_nccl_cu12-2.20.5-py3-none-manylinux2014_x86_64.whl (176.2 MB)\n",
            "Collecting nvidia-nvtx-cu12==12.1.105 (from torch)\n",
            "  Using cached nvidia_nvtx_cu12-12.1.105-py3-none-manylinux1_x86_64.whl (99 kB)\n",
            "Requirement already satisfied: triton==2.3.1 in /usr/local/lib/python3.10/dist-packages (from torch) (2.3.1)\n",
            "Collecting nvidia-nvjitlink-cu12 (from nvidia-cusolver-cu12==11.4.5.107->torch)\n",
            "  Downloading nvidia_nvjitlink_cu12-12.5.82-py3-none-manylinux2014_x86_64.whl (21.3 MB)\n",
            "\u001b[2K     \u001b[90m━━━━━━━━━━━━━━━━━━━━━━━━━━━━━━━━━━━━━━━━\u001b[0m \u001b[32m21.3/21.3 MB\u001b[0m \u001b[31m46.8 MB/s\u001b[0m eta \u001b[36m0:00:00\u001b[0m\n",
            "\u001b[?25hRequirement already satisfied: numpy in /usr/local/lib/python3.10/dist-packages (from torchvision) (1.25.2)\n",
            "Requirement already satisfied: pillow!=8.3.*,>=5.3.0 in /usr/local/lib/python3.10/dist-packages (from torchvision) (9.4.0)\n",
            "Requirement already satisfied: matplotlib in /usr/local/lib/python3.10/dist-packages (from captum) (3.7.1)\n",
            "Requirement already satisfied: tqdm in /usr/local/lib/python3.10/dist-packages (from captum) (4.66.4)\n",
            "Requirement already satisfied: MarkupSafe>=2.0 in /usr/local/lib/python3.10/dist-packages (from jinja2->torch) (2.1.5)\n",
            "Requirement already satisfied: contourpy>=1.0.1 in /usr/local/lib/python3.10/dist-packages (from matplotlib->captum) (1.2.1)\n",
            "Requirement already satisfied: cycler>=0.10 in /usr/local/lib/python3.10/dist-packages (from matplotlib->captum) (0.12.1)\n",
            "Requirement already satisfied: fonttools>=4.22.0 in /usr/local/lib/python3.10/dist-packages (from matplotlib->captum) (4.53.1)\n",
            "Requirement already satisfied: kiwisolver>=1.0.1 in /usr/local/lib/python3.10/dist-packages (from matplotlib->captum) (1.4.5)\n",
            "Requirement already satisfied: packaging>=20.0 in /usr/local/lib/python3.10/dist-packages (from matplotlib->captum) (24.1)\n",
            "Requirement already satisfied: pyparsing>=2.3.1 in /usr/local/lib/python3.10/dist-packages (from matplotlib->captum) (3.1.2)\n",
            "Requirement already satisfied: python-dateutil>=2.7 in /usr/local/lib/python3.10/dist-packages (from matplotlib->captum) (2.8.2)\n",
            "Requirement already satisfied: mpmath<1.4,>=1.1.0 in /usr/local/lib/python3.10/dist-packages (from sympy->torch) (1.3.0)\n",
            "Requirement already satisfied: six>=1.5 in /usr/local/lib/python3.10/dist-packages (from python-dateutil>=2.7->matplotlib->captum) (1.16.0)\n",
            "Installing collected packages: nvidia-nvtx-cu12, nvidia-nvjitlink-cu12, nvidia-nccl-cu12, nvidia-curand-cu12, nvidia-cufft-cu12, nvidia-cuda-runtime-cu12, nvidia-cuda-nvrtc-cu12, nvidia-cuda-cupti-cu12, nvidia-cublas-cu12, nvidia-cusparse-cu12, nvidia-cudnn-cu12, nvidia-cusolver-cu12, captum\n",
            "Successfully installed captum-0.7.0 nvidia-cublas-cu12-12.1.3.1 nvidia-cuda-cupti-cu12-12.1.105 nvidia-cuda-nvrtc-cu12-12.1.105 nvidia-cuda-runtime-cu12-12.1.105 nvidia-cudnn-cu12-8.9.2.26 nvidia-cufft-cu12-11.0.2.54 nvidia-curand-cu12-10.3.2.106 nvidia-cusolver-cu12-11.4.5.107 nvidia-cusparse-cu12-12.1.0.106 nvidia-nccl-cu12-2.20.5 nvidia-nvjitlink-cu12-12.5.82 nvidia-nvtx-cu12-12.1.105\n"
          ]
        }
      ]
    },
    {
      "cell_type": "code",
      "source": [
        "import torch\n",
        "import torch.nn as nn\n",
        "import torchvision\n",
        "import torchvision.transforms as transforms\n",
        "from torchvision.models import resnet18\n",
        "from captum.attr import IntegratedGradients, GradientShap, Saliency, GuidedBackprop, Occlusion\n",
        "from captum.metrics import infidelity, sensitivity_max\n",
        "import numpy as np\n",
        "\n",
        "device = torch.device('cuda' if torch.cuda.is_available() else 'cpu')\n",
        "\n",
        "transform_test = transforms.Compose([\n",
        "    transforms.Resize((224, 224)),\n",
        "    transforms.ToTensor(),\n",
        "])\n",
        "\n",
        "test_dataset = torchvision.datasets.CIFAR10(root='./data', train=False, download=True, transform=transform_test)\n",
        "test_loader = torch.utils.data.DataLoader(test_dataset, batch_size=1, shuffle=False, num_workers=2)\n",
        "\n",
        "model = resnet18(pretrained=True)\n",
        "model.fc = nn.Linear(model.fc.in_features, 10)  # Adjust the final layer for CIFAR-10\n",
        "model = model.to(device)\n",
        "model.load_state_dict(torch.load('resnet18_cifar10.pth'))\n",
        "model.eval()"
      ],
      "metadata": {
        "colab": {
          "base_uri": "https://localhost:8080/"
        },
        "id": "fu60CkHDouNo",
        "outputId": "0b35fddb-4164-49e4-9c94-1e77ea818aea"
      },
      "execution_count": null,
      "outputs": [
        {
          "output_type": "stream",
          "name": "stdout",
          "text": [
            "Files already downloaded and verified\n"
          ]
        },
        {
          "output_type": "execute_result",
          "data": {
            "text/plain": [
              "ResNet(\n",
              "  (conv1): Conv2d(3, 64, kernel_size=(7, 7), stride=(2, 2), padding=(3, 3), bias=False)\n",
              "  (bn1): BatchNorm2d(64, eps=1e-05, momentum=0.1, affine=True, track_running_stats=True)\n",
              "  (relu): ReLU(inplace=True)\n",
              "  (maxpool): MaxPool2d(kernel_size=3, stride=2, padding=1, dilation=1, ceil_mode=False)\n",
              "  (layer1): Sequential(\n",
              "    (0): BasicBlock(\n",
              "      (conv1): Conv2d(64, 64, kernel_size=(3, 3), stride=(1, 1), padding=(1, 1), bias=False)\n",
              "      (bn1): BatchNorm2d(64, eps=1e-05, momentum=0.1, affine=True, track_running_stats=True)\n",
              "      (relu): ReLU(inplace=True)\n",
              "      (conv2): Conv2d(64, 64, kernel_size=(3, 3), stride=(1, 1), padding=(1, 1), bias=False)\n",
              "      (bn2): BatchNorm2d(64, eps=1e-05, momentum=0.1, affine=True, track_running_stats=True)\n",
              "    )\n",
              "    (1): BasicBlock(\n",
              "      (conv1): Conv2d(64, 64, kernel_size=(3, 3), stride=(1, 1), padding=(1, 1), bias=False)\n",
              "      (bn1): BatchNorm2d(64, eps=1e-05, momentum=0.1, affine=True, track_running_stats=True)\n",
              "      (relu): ReLU(inplace=True)\n",
              "      (conv2): Conv2d(64, 64, kernel_size=(3, 3), stride=(1, 1), padding=(1, 1), bias=False)\n",
              "      (bn2): BatchNorm2d(64, eps=1e-05, momentum=0.1, affine=True, track_running_stats=True)\n",
              "    )\n",
              "  )\n",
              "  (layer2): Sequential(\n",
              "    (0): BasicBlock(\n",
              "      (conv1): Conv2d(64, 128, kernel_size=(3, 3), stride=(2, 2), padding=(1, 1), bias=False)\n",
              "      (bn1): BatchNorm2d(128, eps=1e-05, momentum=0.1, affine=True, track_running_stats=True)\n",
              "      (relu): ReLU(inplace=True)\n",
              "      (conv2): Conv2d(128, 128, kernel_size=(3, 3), stride=(1, 1), padding=(1, 1), bias=False)\n",
              "      (bn2): BatchNorm2d(128, eps=1e-05, momentum=0.1, affine=True, track_running_stats=True)\n",
              "      (downsample): Sequential(\n",
              "        (0): Conv2d(64, 128, kernel_size=(1, 1), stride=(2, 2), bias=False)\n",
              "        (1): BatchNorm2d(128, eps=1e-05, momentum=0.1, affine=True, track_running_stats=True)\n",
              "      )\n",
              "    )\n",
              "    (1): BasicBlock(\n",
              "      (conv1): Conv2d(128, 128, kernel_size=(3, 3), stride=(1, 1), padding=(1, 1), bias=False)\n",
              "      (bn1): BatchNorm2d(128, eps=1e-05, momentum=0.1, affine=True, track_running_stats=True)\n",
              "      (relu): ReLU(inplace=True)\n",
              "      (conv2): Conv2d(128, 128, kernel_size=(3, 3), stride=(1, 1), padding=(1, 1), bias=False)\n",
              "      (bn2): BatchNorm2d(128, eps=1e-05, momentum=0.1, affine=True, track_running_stats=True)\n",
              "    )\n",
              "  )\n",
              "  (layer3): Sequential(\n",
              "    (0): BasicBlock(\n",
              "      (conv1): Conv2d(128, 256, kernel_size=(3, 3), stride=(2, 2), padding=(1, 1), bias=False)\n",
              "      (bn1): BatchNorm2d(256, eps=1e-05, momentum=0.1, affine=True, track_running_stats=True)\n",
              "      (relu): ReLU(inplace=True)\n",
              "      (conv2): Conv2d(256, 256, kernel_size=(3, 3), stride=(1, 1), padding=(1, 1), bias=False)\n",
              "      (bn2): BatchNorm2d(256, eps=1e-05, momentum=0.1, affine=True, track_running_stats=True)\n",
              "      (downsample): Sequential(\n",
              "        (0): Conv2d(128, 256, kernel_size=(1, 1), stride=(2, 2), bias=False)\n",
              "        (1): BatchNorm2d(256, eps=1e-05, momentum=0.1, affine=True, track_running_stats=True)\n",
              "      )\n",
              "    )\n",
              "    (1): BasicBlock(\n",
              "      (conv1): Conv2d(256, 256, kernel_size=(3, 3), stride=(1, 1), padding=(1, 1), bias=False)\n",
              "      (bn1): BatchNorm2d(256, eps=1e-05, momentum=0.1, affine=True, track_running_stats=True)\n",
              "      (relu): ReLU(inplace=True)\n",
              "      (conv2): Conv2d(256, 256, kernel_size=(3, 3), stride=(1, 1), padding=(1, 1), bias=False)\n",
              "      (bn2): BatchNorm2d(256, eps=1e-05, momentum=0.1, affine=True, track_running_stats=True)\n",
              "    )\n",
              "  )\n",
              "  (layer4): Sequential(\n",
              "    (0): BasicBlock(\n",
              "      (conv1): Conv2d(256, 512, kernel_size=(3, 3), stride=(2, 2), padding=(1, 1), bias=False)\n",
              "      (bn1): BatchNorm2d(512, eps=1e-05, momentum=0.1, affine=True, track_running_stats=True)\n",
              "      (relu): ReLU(inplace=True)\n",
              "      (conv2): Conv2d(512, 512, kernel_size=(3, 3), stride=(1, 1), padding=(1, 1), bias=False)\n",
              "      (bn2): BatchNorm2d(512, eps=1e-05, momentum=0.1, affine=True, track_running_stats=True)\n",
              "      (downsample): Sequential(\n",
              "        (0): Conv2d(256, 512, kernel_size=(1, 1), stride=(2, 2), bias=False)\n",
              "        (1): BatchNorm2d(512, eps=1e-05, momentum=0.1, affine=True, track_running_stats=True)\n",
              "      )\n",
              "    )\n",
              "    (1): BasicBlock(\n",
              "      (conv1): Conv2d(512, 512, kernel_size=(3, 3), stride=(1, 1), padding=(1, 1), bias=False)\n",
              "      (bn1): BatchNorm2d(512, eps=1e-05, momentum=0.1, affine=True, track_running_stats=True)\n",
              "      (relu): ReLU(inplace=True)\n",
              "      (conv2): Conv2d(512, 512, kernel_size=(3, 3), stride=(1, 1), padding=(1, 1), bias=False)\n",
              "      (bn2): BatchNorm2d(512, eps=1e-05, momentum=0.1, affine=True, track_running_stats=True)\n",
              "    )\n",
              "  )\n",
              "  (avgpool): AdaptiveAvgPool2d(output_size=(1, 1))\n",
              "  (fc): Linear(in_features=512, out_features=10, bias=True)\n",
              ")"
            ]
          },
          "metadata": {},
          "execution_count": 5
        }
      ]
    },
    {
      "cell_type": "code",
      "source": [
        "def perturb_fn(inputs):\n",
        "    noise = torch.tensor(np.random.normal(0, 0.003, inputs.shape)).float().to(inputs.device)\n",
        "    return noise, inputs + noise\n",
        "\n",
        "infidelity_ig_list, infidelity_gs_list, infidelity_saliency_list, infidelity_gbp_list, infidelity_occ_list = [], [], [], [], []\n",
        "sensitivity_ig_list, sensitivity_gs_list, sensitivity_saliency_list, sensitivity_gbp_list, sensitivity_occ_list = [], [], [], [], []\n",
        "\n",
        "samples_count = 100\n",
        "\n",
        "for idx, (inputs, labels) in enumerate(test_loader):\n",
        "    if idx >= samples_count:\n",
        "      break\n",
        "\n",
        "    inputs, labels = inputs.to(device), labels.to(device)\n",
        "\n",
        "    output = model(inputs)\n",
        "    _, predicted_class = torch.max(output, 1)\n",
        "\n",
        "    # Apply Integrated Gradients\n",
        "    ig = IntegratedGradients(model)\n",
        "    baseline = torch.zeros_like(inputs)\n",
        "    attributions_ig = ig.attribute(inputs, baselines=baseline, target=predicted_class.item(), return_convergence_delta=False)\n",
        "\n",
        "    # Apply Gradient SHAP\n",
        "    rand_img_dist = torch.cat([inputs * 0, inputs * 1])\n",
        "    gs = GradientShap(model)\n",
        "    attributions_gs = gs.attribute(inputs, baselines=rand_img_dist, target=predicted_class.item(), n_samples=100)\n",
        "\n",
        "    # Apply Saliency\n",
        "    saliency = Saliency(model)\n",
        "    attributions_saliency = saliency.attribute(inputs, target=predicted_class.item())\n",
        "\n",
        "    # Apply Guided Backpropagation\n",
        "    guided_bp = GuidedBackprop(model)\n",
        "    attributions_gbp = guided_bp.attribute(inputs, target=predicted_class.item())\n",
        "\n",
        "    # Apply Occlusion\n",
        "    occlusion = Occlusion(model)\n",
        "    attributions_occ = occlusion.attribute(inputs, strides=(3, 8, 8), target=predicted_class.item(), sliding_window_shapes=(3, 15, 15), baselines=0)\n",
        "\n",
        "    # Calculate infidelity\n",
        "    infidelity_ig_list.append(infidelity(model, perturb_fn, inputs, attributions_ig, target=predicted_class.item(), n_perturb_samples=10).mean().item())\n",
        "    infidelity_gs_list.append(infidelity(model, perturb_fn, inputs, attributions_gs, target=predicted_class.item(), n_perturb_samples=10).mean().item())\n",
        "    infidelity_saliency_list.append(infidelity(model, perturb_fn, inputs, attributions_saliency, target=predicted_class.item(), n_perturb_samples=10).mean().item())\n",
        "    infidelity_gbp_list.append(infidelity(model, perturb_fn, inputs, attributions_gbp, target=predicted_class.item(), n_perturb_samples=10).mean().item())\n",
        "    infidelity_occ_list.append(infidelity(model, perturb_fn, inputs, attributions_occ, target=predicted_class.item(), n_perturb_samples=10).mean().item())\n",
        "\n",
        "    # Calculate sensitivity\n",
        "    sensitivity_ig_list.append(sensitivity_max(ig.attribute, inputs, target=predicted_class.item(), n_perturb_samples=10).mean().item())\n",
        "    sensitivity_gs_list.append(sensitivity_max(gs.attribute, inputs, baselines=rand_img_dist, target=predicted_class.item(), n_perturb_samples=10).mean().item())\n",
        "    sensitivity_saliency_list.append(sensitivity_max(saliency.attribute, inputs, target=predicted_class.item(), n_perturb_samples=10).mean().item())\n",
        "    sensitivity_gbp_list.append(sensitivity_max(guided_bp.attribute, inputs, target=predicted_class.item(), n_perturb_samples=10).mean().item())\n",
        "    sensitivity_occ_list.append(sensitivity_max(occlusion.attribute, inputs, strides=(3, 8, 8), target=predicted_class.item(), sliding_window_shapes=(3, 15, 15), baselines=0, n_perturb_samples=10).mean().item())\n",
        "\n",
        "    if (idx + 1) % 10 == 0 or (idx + 1) == samples_count:\n",
        "        print(f'Processed {idx + 1}/{samples_count} samples')\n",
        "\n",
        "# Compute overall infidelity and sensitivity metrics\n",
        "overall_infidelity_ig = np.mean(infidelity_ig_list)\n",
        "overall_infidelity_gs = np.mean(infidelity_gs_list)\n",
        "overall_infidelity_saliency = np.mean(infidelity_saliency_list)\n",
        "overall_infidelity_gbp = np.mean(infidelity_gbp_list)\n",
        "overall_infidelity_occ = np.mean(infidelity_occ_list)\n",
        "\n",
        "overall_sensitivity_ig = np.mean(sensitivity_ig_list)\n",
        "overall_sensitivity_gs = np.mean(sensitivity_gs_list)\n",
        "overall_sensitivity_saliency = np.mean(sensitivity_saliency_list)\n",
        "overall_sensitivity_gbp = np.mean(sensitivity_gbp_list)\n",
        "overall_sensitivity_occ = np.mean(sensitivity_occ_list)\n",
        "\n",
        "# Compute standard deviation for stability\n",
        "stability_infidelity_ig = np.std(infidelity_ig_list)\n",
        "stability_infidelity_gs = np.std(infidelity_gs_list)\n",
        "stability_infidelity_saliency = np.std(infidelity_saliency_list)\n",
        "stability_infidelity_gbp = np.std(infidelity_gbp_list)\n",
        "stability_infidelity_occ = np.std(infidelity_occ_list)\n",
        "\n",
        "stability_sensitivity_ig = np.std(sensitivity_ig_list)\n",
        "stability_sensitivity_gs = np.std(sensitivity_gs_list)\n",
        "stability_sensitivity_saliency = np.std(sensitivity_saliency_list)\n",
        "stability_sensitivity_gbp = np.std(sensitivity_gbp_list)\n",
        "stability_sensitivity_occ = np.std(sensitivity_occ_list)\n",
        "\n",
        "# Print the overall metrics\n",
        "print(f'Overall Infidelity of Integrated Gradients: {overall_infidelity_ig:.4f}')\n",
        "print(f'Overall Infidelity of Gradient SHAP: {overall_infidelity_gs:.4f}')\n",
        "print(f'Overall Infidelity of Saliency: {overall_infidelity_saliency:.4f}')\n",
        "print(f'Overall Infidelity of Guided Backpropagation: {overall_infidelity_gbp:.4f}')\n",
        "print(f'Overall Infidelity of Occlusion: {overall_infidelity_occ:.4f}')\n",
        "\n",
        "print(f'Overall Sensitivity of Integrated Gradients: {overall_sensitivity_ig:.4f}')\n",
        "print(f'Overall Sensitivity of Gradient SHAP: {overall_sensitivity_gs:.4f}')\n",
        "print(f'Overall Sensitivity of Saliency: {overall_sensitivity_saliency:.4f}')\n",
        "print(f'Overall Sensitivity of Guided Backpropagation: {overall_sensitivity_gbp:.4f}')\n",
        "print(f'Overall Sensitivity of Occlusion: {overall_sensitivity_occ:.4f}')\n"
      ],
      "metadata": {
        "colab": {
          "base_uri": "https://localhost:8080/"
        },
        "id": "w39F0SgCogKE",
        "outputId": "65f9fc07-1a41-4ac5-a46a-99701961ecb8"
      },
      "execution_count": null,
      "outputs": [
        {
          "output_type": "stream",
          "name": "stdout",
          "text": [
            "Processed 10/100 samples\n",
            "Processed 20/100 samples\n",
            "Processed 30/100 samples\n",
            "Processed 40/100 samples\n",
            "Processed 50/100 samples\n",
            "Processed 60/100 samples\n",
            "Processed 70/100 samples\n",
            "Processed 80/100 samples\n",
            "Processed 90/100 samples\n",
            "Processed 100/100 samples\n",
            "Overall Infidelity of Integrated Gradients: 0.0006\n",
            "Overall Infidelity of Gradient SHAP: 0.0004\n",
            "Overall Infidelity of Saliency: 0.0007\n",
            "Overall Infidelity of Guided Backpropagation: 0.0004\n",
            "Overall Infidelity of Occlusion: 2.1232\n",
            "Overall Sensitivity of Integrated Gradients: 0.5774\n",
            "Overall Sensitivity of Gradient SHAP: 3.3291\n",
            "Overall Sensitivity of Saliency: 0.5496\n",
            "Overall Sensitivity of Guided Backpropagation: 0.5442\n",
            "Overall Sensitivity of Occlusion: 0.0384\n"
          ]
        }
      ]
    },
    {
      "cell_type": "code",
      "source": [
        "print('Overall Infidelity Metrics:')\n",
        "print(f'Integrated Gradients: {overall_infidelity_ig:.4f} (Stability: {stability_infidelity_ig:.4f})')\n",
        "print(f'Gradient SHAP: {overall_infidelity_gs:.4f} (Stability: {stability_infidelity_gs:.4f})')\n",
        "print(f'Saliency: {overall_infidelity_saliency:.4f} (Stability: {stability_infidelity_saliency:.4f})')\n",
        "print(f'Guided Backpropagation: {overall_infidelity_gbp:.4f} (Stability: {stability_infidelity_gbp:.4f})')\n",
        "print(f'Occlusion: {overall_infidelity_occ:.4f} (Stability: {stability_infidelity_occ:.4f})')\n",
        "print()\n",
        "print('Overall Sensitivity Metrics:')\n",
        "print(f'Integrated Gradients: {overall_sensitivity_ig:.4f} (Stability: {stability_sensitivity_ig:.4f})')\n",
        "print(f'Gradient SHAP: {overall_sensitivity_gs:.4f} (Stability: {stability_sensitivity_gs:.4f})')\n",
        "print(f'Saliency: {overall_sensitivity_saliency:.4f} (Stability: {stability_sensitivity_saliency:.4f})')\n",
        "print(f'Guided Backpropagation: {overall_sensitivity_gbp:.4f} (Stability: {stability_sensitivity_gbp:.4f})')\n",
        "print(f'Occlusion: {overall_sensitivity_occ:.4f} (Stability: {stability_sensitivity_occ:.4f})')\n"
      ],
      "metadata": {
        "colab": {
          "base_uri": "https://localhost:8080/"
        },
        "id": "1Fd2yaOyxHFe",
        "outputId": "3e2f95c7-0c1f-4a10-cc59-a18c4ef2fdea"
      },
      "execution_count": null,
      "outputs": [
        {
          "output_type": "stream",
          "name": "stdout",
          "text": [
            "Overall Infidelity Metrics:\n",
            "Integrated Gradients: 0.0006 (Stability: 0.0006)\n",
            "Gradient SHAP: 0.0004 (Stability: 0.0004)\n",
            "Saliency: 0.0007 (Stability: 0.0006)\n",
            "Guided Backpropagation: 0.0004 (Stability: 0.0004)\n",
            "Occlusion: 2.1232 (Stability: 2.0690)\n",
            "\n",
            "Overall Sensitivity Metrics:\n",
            "Integrated Gradients: 0.5774 (Stability: 0.0535)\n",
            "Gradient SHAP: 3.3291 (Stability: 5.8345)\n",
            "Saliency: 0.5496 (Stability: 0.0373)\n",
            "Guided Backpropagation: 0.5442 (Stability: 0.0924)\n",
            "Occlusion: 0.0384 (Stability: 0.0161)\n"
          ]
        }
      ]
    }
  ]
}